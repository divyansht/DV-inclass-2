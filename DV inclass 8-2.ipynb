{
 "cells": [
  {
   "cell_type": "code",
   "execution_count": 33,
   "metadata": {},
   "outputs": [
    {
     "name": "stdout",
     "output_type": "stream",
     "text": [
      "Requirement already satisfied: folium==0.1.5 in c:\\users\\div15\\anaconda3\\lib\\site-packages (0.1.5)\n",
      "Note: you may need to restart the kernel to use updated packages.\n"
     ]
    }
   ],
   "source": [
    "pip install folium==0.1.5"
   ]
  },
  {
   "cell_type": "code",
   "execution_count": 2,
   "metadata": {},
   "outputs": [
    {
     "name": "stdout",
     "output_type": "stream",
     "text": [
      "Note: you may need to restart the kernel to use updated packages.\n"
     ]
    },
    {
     "name": "stderr",
     "output_type": "stream",
     "text": [
      "ERROR: Could not find a version that satisfies the requirement mpl_toolkits.basemap (from versions: none)\n",
      "ERROR: No matching distribution found for mpl_toolkits.basemap\n"
     ]
    }
   ],
   "source": [
    "pip install mpl_toolkits.basemap "
   ]
  },
  {
   "cell_type": "code",
   "execution_count": null,
   "metadata": {},
   "outputs": [],
   "source": []
  },
  {
   "cell_type": "code",
   "execution_count": 3,
   "metadata": {},
   "outputs": [
    {
     "name": "stdout",
     "output_type": "stream",
     "text": [
      "Requirement already satisfied: plotly in c:\\users\\div15\\anaconda3\\lib\\site-packages (4.5.4)\n",
      "Requirement already satisfied: six in c:\\users\\div15\\anaconda3\\lib\\site-packages (from plotly) (1.13.0)\n",
      "Requirement already satisfied: retrying>=1.3.3 in c:\\users\\div15\\anaconda3\\lib\\site-packages (from plotly) (1.3.3)\n",
      "Note: you may need to restart the kernel to use updated packages.\n"
     ]
    }
   ],
   "source": [
    "pip install plotly"
   ]
  },
  {
   "cell_type": "code",
   "execution_count": 7,
   "metadata": {},
   "outputs": [],
   "source": [
    "import branca.colormap as cm\n",
    "import folium\n",
    "import numpy as np\n",
    "import pandas as pd\n",
    "import matplotlib\n",
    "import matplotlib.pyplot as plt\n",
    "import datetime, time, requests\n",
    "from time import sleep"
   ]
  },
  {
   "cell_type": "code",
   "execution_count": 11,
   "metadata": {},
   "outputs": [],
   "source": [
    "corona_df = pd.read_csv(\"COVID_DATA.csv\")"
   ]
  },
  {
   "cell_type": "markdown",
   "metadata": {},
   "source": [
    "04-01-2020.csv"
   ]
  },
  {
   "cell_type": "code",
   "execution_count": 18,
   "metadata": {},
   "outputs": [],
   "source": [
    "corona_df = corona_df.replace({'Country_Region' : \n",
    "                      dict.fromkeys(['Taiwan', \n",
    "                                     'Mainland China', \n",
    "                                     'Hong Kong', \n",
    "                                     'Macau'], \n",
    "                                     'China')})\n",
    "corona_df = corona_df.replace({'Country_Region' : 'US'}, \n",
    "                                'United States')\n",
    "corona_df = corona_df.replace({'Country_Region' : 'UK'}, \n",
    "                                'United Kingdom')\n",
    "corona_df = corona_df.replace({'Country_Region' : 'North Ireland'}, \n",
    "                                'United Kingdom')\n",
    "corona_df = corona_df.replace({'Country_Region' : 'Republic of Ireland'}, \n",
    "                                'Ireland')\n",
    "corona_df = corona_df.replace({'Country_Region' : 'Vatican City'}, \n",
    "                                'Italy')\n",
    "corona_df = corona_df.replace({'Cpuntry_Region' : 'Byelarus'}, \n",
    "                               'Belarus')\n",
    "corona_df = corona_df.replace({'Country_Region' : 'Macedonia'}, \n",
    "                               'North Macedonia')"
   ]
  },
  {
   "cell_type": "code",
   "execution_count": 23,
   "metadata": {},
   "outputs": [],
   "source": [
    "corona_df = corona_df[corona_df.Confirmed != 0]\n"
   ]
  },
  {
   "cell_type": "code",
   "execution_count": 24,
   "metadata": {},
   "outputs": [],
   "source": [
    "sorted_df = corona_df.sort_values(['Country_Region', \n",
    "                     'Last_Update']).reset_index(drop=True)"
   ]
  },
  {
   "cell_type": "code",
   "execution_count": 26,
   "metadata": {},
   "outputs": [],
   "source": [
    "sum_df = sorted_df.groupby(['Country_Region', 'Last_Update'], as_index=False).sum()"
   ]
  },
  {
   "cell_type": "code",
   "execution_count": 28,
   "metadata": {},
   "outputs": [],
   "source": [
    "joined_df = sum_df.merge(corona_df, on='Country_Region')"
   ]
  },
  {
   "cell_type": "code",
   "execution_count": 31,
   "metadata": {},
   "outputs": [
    {
     "ename": "SyntaxError",
     "evalue": "invalid syntax (<ipython-input-31-fd8913f97919>, line 2)",
     "output_type": "error",
     "traceback": [
      "\u001b[1;36m  File \u001b[1;32m\"<ipython-input-31-fd8913f97919>\"\u001b[1;36m, line \u001b[1;32m2\u001b[0m\n\u001b[1;33m    : {\u001b[0m\n\u001b[1;37m    ^\u001b[0m\n\u001b[1;31mSyntaxError\u001b[0m\u001b[1;31m:\u001b[0m invalid syntax\n"
     ]
    }
   ],
   "source": [
    "styledict = {\n",
    "    : {\n",
    "        : {'color': , 'opacity': }\n",
    "        : {'color': , 'opacity': }\n",
    "        ...\n",
    "        },\n",
    "    ...,\n",
    "    : {\n",
    "        : {'color': , 'opacity': }\n",
    "        : {'color': , 'opacity': }\n",
    "        ...\n",
    "        }\n",
    "}"
   ]
  },
  {
   "cell_type": "code",
   "execution_count": 35,
   "metadata": {},
   "outputs": [
    {
     "ename": "TypeError",
     "evalue": "'Map' object is not callable",
     "output_type": "error",
     "traceback": [
      "\u001b[1;31m---------------------------------------------------------------------------\u001b[0m",
      "\u001b[1;31mTypeError\u001b[0m                                 Traceback (most recent call last)",
      "\u001b[1;32m<ipython-input-35-aa2a5bbcacc1>\u001b[0m in \u001b[0;36m<module>\u001b[1;34m\u001b[0m\n\u001b[0;32m      1\u001b[0m \u001b[0mmymap\u001b[0m \u001b[1;33m=\u001b[0m \u001b[0mfolium\u001b[0m\u001b[1;33m.\u001b[0m\u001b[0mMap\u001b[0m\u001b[1;33m(\u001b[0m\u001b[0mtiles\u001b[0m\u001b[1;33m=\u001b[0m\u001b[1;34m'cartodbpositron'\u001b[0m\u001b[1;33m)\u001b[0m\u001b[1;33m\u001b[0m\u001b[1;33m\u001b[0m\u001b[0m\n\u001b[1;32m----> 2\u001b[1;33m \u001b[0mmymap\u001b[0m\u001b[1;33m(\u001b[0m\u001b[0moutfile\u001b[0m\u001b[1;33m=\u001b[0m\u001b[1;34m'infinite_scroll.html'\u001b[0m\u001b[1;33m)\u001b[0m\u001b[1;33m\u001b[0m\u001b[1;33m\u001b[0m\u001b[0m\n\u001b[0m",
      "\u001b[1;31mTypeError\u001b[0m: 'Map' object is not callable"
     ]
    }
   ],
   "source": [
    "mymap = folium.Map(tiles='cartodbpositron')\n",
    "mymap(outfile='infinite_scroll.html')"
   ]
  }
 ],
 "metadata": {
  "kernelspec": {
   "display_name": "Python 3",
   "language": "python",
   "name": "python3"
  },
  "language_info": {
   "codemirror_mode": {
    "name": "ipython",
    "version": 3
   },
   "file_extension": ".py",
   "mimetype": "text/x-python",
   "name": "python",
   "nbconvert_exporter": "python",
   "pygments_lexer": "ipython3",
   "version": "3.7.3"
  }
 },
 "nbformat": 4,
 "nbformat_minor": 2
}
